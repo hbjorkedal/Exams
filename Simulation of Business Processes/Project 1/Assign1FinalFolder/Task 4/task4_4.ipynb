{
 "cells": [
  {
   "cell_type": "markdown",
   "metadata": {},
   "source": [
    "# Expected time in queue for M/G/1 system's\n",
    "From page 244 in `Business Process Modeling, Simultation and Desing` these formulaes will be used in order for us to calculate the expected waiting time for a queue\n",
    "\n",
    "$$ \\rho = \\frac{\\\\lambda}{\\mu} $$\n",
    "$$ \\sigma_s^2 = \\frac{(b - a)^2}{12} $$\n",
    "\n",
    "$$ L_q = \\frac{\\lambda^2 \\sigma_s^2 + \\rho^2}{2(1 - \\rho)} $$\n",
    "$$ W_q = \\frac{L_q}{\\lambda} $$\n"
   ]
  },
  {
   "cell_type": "markdown",
   "metadata": {},
   "source": [
    "## Ticket counter"
   ]
  },
  {
   "cell_type": "code",
   "execution_count": 12,
   "metadata": {},
   "outputs": [],
   "source": [
    "# Input\n",
    "lamda = (1 / 5) * 0.15\n",
    "mu_min = 12\n",
    "mu_max = 18\n"
   ]
  },
  {
   "cell_type": "code",
   "execution_count": 20,
   "metadata": {},
   "outputs": [
    {
     "name": "stdout",
     "output_type": "stream",
     "text": [
      "The value of mu is 0.06666666666666667\n",
      "The probability of the random variable being less than 0.15 is 0.45\n",
      "The variance of the random variable is 3.0\n"
     ]
    }
   ],
   "source": [
    "# Calculation\n",
    "mu = 1 / ((mu_min + mu_max) / 2)\n",
    "p = lamda / mu\n",
    "varinace = (mu_max - mu_min) ** 2 / 12\n",
    "print(\"The value of mu is\", mu)\n",
    "print(\"The probability of the random variable being less than 0.15 is\", p)\n",
    "print(\"The variance of the random variable is\", varinace)"
   ]
  },
  {
   "cell_type": "code",
   "execution_count": 22,
   "metadata": {},
   "outputs": [
    {
     "name": "stdout",
     "output_type": "stream",
     "text": [
      "Average number of customers in the queue is 0.18654545454545454\n",
      "Average time a customer spends in the queue is 6.218181818181819\n"
     ]
    }
   ],
   "source": [
    "# Output\n",
    "l_q = (lamda ** 2 * varinace + p ** 2) / (2*(1 - p))\n",
    "w_q = l_q / lamda\n",
    "print(f\"Average number of customers in the queue is {l_q}\")\n",
    "print(f\"Average time a customer spends in the queue is {w_q}\")"
   ]
  },
  {
   "cell_type": "markdown",
   "metadata": {},
   "source": [
    "## Check-in counter"
   ]
  },
  {
   "cell_type": "code",
   "execution_count": 24,
   "metadata": {},
   "outputs": [],
   "source": [
    "# Input\n",
    "lamda = (1 / 5) * 0.85\n",
    "mu_min = 2\n",
    "mu_max = 4\n"
   ]
  },
  {
   "cell_type": "code",
   "execution_count": 25,
   "metadata": {},
   "outputs": [
    {
     "name": "stdout",
     "output_type": "stream",
     "text": [
      "The value of mu is 0.3333333333333333\n",
      "The probability of the random variable being less than 0.15 is 0.5100000000000001\n",
      "The variance of the random variable is 0.3333333333333333\n"
     ]
    }
   ],
   "source": [
    "# Calculation\n",
    "mu = 1 / ((mu_min + mu_max) / 2)\n",
    "p = lamda / mu\n",
    "varinace = (mu_max - mu_min) ** 2 / 12\n",
    "print(\"The value of mu is\", mu)\n",
    "print(\"The probability of the random variable being less than 0.15 is\", p)\n",
    "print(\"The variance of the random variable is\", varinace)"
   ]
  },
  {
   "cell_type": "code",
   "execution_count": 26,
   "metadata": {},
   "outputs": [
    {
     "name": "stdout",
     "output_type": "stream",
     "text": [
      "Average number of customers in the queue is 0.2752380952380954\n",
      "Average time a customer spends in the queue is 1.6190476190476197\n"
     ]
    }
   ],
   "source": [
    "# Output\n",
    "l_q = (lamda ** 2 * varinace + p ** 2) / (2*(1 - p))\n",
    "w_q = l_q / lamda\n",
    "print(f\"Average number of customers in the queue is {l_q}\")\n",
    "print(f\"Average time a customer spends in the queue is {w_q}\")"
   ]
  }
 ],
 "metadata": {
  "kernelspec": {
   "display_name": "Python 3",
   "language": "python",
   "name": "python3"
  },
  "language_info": {
   "codemirror_mode": {
    "name": "ipython",
    "version": 3
   },
   "file_extension": ".py",
   "mimetype": "text/x-python",
   "name": "python",
   "nbconvert_exporter": "python",
   "pygments_lexer": "ipython3",
   "version": "3.10.2"
  }
 },
 "nbformat": 4,
 "nbformat_minor": 2
}
