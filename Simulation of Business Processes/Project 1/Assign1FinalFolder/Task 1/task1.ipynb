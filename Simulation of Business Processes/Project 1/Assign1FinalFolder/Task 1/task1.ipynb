{
 "cells": [
  {
   "cell_type": "markdown",
   "metadata": {},
   "source": [
    "# Task 1: Monte Carlo Simulation\n",
    "1. Fetch the data from Yahoo Finance\n",
    "2. Preprocess the date, and calculate return over 5 years\n",
    "3. Peforme the Monte Carlo simulation\n",
    "4. Conclude on best strategy"
   ]
  },
  {
   "cell_type": "code",
   "execution_count": null,
   "metadata": {},
   "outputs": [],
   "source": [
    "# Load Neccessary Libraries\n",
    "import pandas as pd\n",
    "from datetime import datetime, timedelta\n",
    "import plotly.express as px\n",
    "import numpy as np"
   ]
  },
  {
   "cell_type": "markdown",
   "metadata": {},
   "source": [
    "## 1. Fetch Data"
   ]
  },
  {
   "cell_type": "code",
   "execution_count": null,
   "metadata": {},
   "outputs": [],
   "source": [
    "tickers = ['KO', 'GME', 'AAPL', 'JNJ', 'JPM']\n",
    "\n",
    "end = datetime(2024, 3, 1) # End day of the analysis\n",
    "start = end - timedelta(days=365*5 +2) # 5 years and 2 days (leap year 2024 and 2020)\n",
    "end = int(end.timestamp()) # Convert to unix timestamp\n",
    "start = int(start.timestamp()) # Convert to unix timestamp\n",
    "\n",
    "# Load Data from Yahoo Finance\n",
    "for ticker in tickers:\n",
    "    url = f'https://query1.finance.yahoo.com/v7/finance/download/{ticker}?period1={start}&period2={end}&interval=1d&events=history&includeAdjustedClose=true'\n",
    "    df = pd.read_csv(url)\n",
    "    df['Date'] = pd.to_datetime(df['Date'])\n",
    "    df['daily_return'] = df['Close'].pct_change() # Calculate daily return\n",
    "    df.to_csv(f'data/{ticker}.csv', index=False) # Save to csv file"
   ]
  },
  {
   "cell_type": "markdown",
   "metadata": {},
   "source": [
    "## 2. Preprocess the data\n",
    "We will start to merge all the .csv files"
   ]
  },
  {
   "cell_type": "code",
   "execution_count": null,
   "metadata": {},
   "outputs": [],
   "source": [
    "df_all = pd.DataFrame() # Create an empty dataframe\n",
    "for ticker in tickers:\n",
    "    df = pd.read_csv(f'data/{ticker}.csv') # Read in the csv file\n",
    "    df['Date'] = pd.to_datetime(df['Date'])\n",
    "    # Append the df to df_all\n",
    "    df['ticker'] = ticker # Append a column for ticker name\n",
    "    df_all = df_all.append(df) # Append to df_all dataframe\n",
    "\n",
    "# Save the combined dataframe to a csv file\n",
    "df_all.to_csv('data/stock_data_all.csv', index=False)"
   ]
  },
  {
   "cell_type": "markdown",
   "metadata": {},
   "source": [
    "To ensure data quaility, we will make a plot to se that we got stock prices for all the assets in the 5 year period"
   ]
  },
  {
   "cell_type": "code",
   "execution_count": null,
   "metadata": {},
   "outputs": [],
   "source": [
    "# Plot the data\n",
    "df_all.to_csv('data/stock_data_all.csv', index=False)\n",
    "df_all['Date'] = pd.to_datetime(df_all['Date'])\n",
    "fig = px.line(df_all, x=df_all['Date'], y='Close', color='ticker', title='Stock Prices')\n",
    "fig.show()\n",
    "\n",
    "fig = px.line(df_all, \n",
    "    x=df_all['Date'],\n",
    "    y='daily_return',\n",
    "    color='ticker', \n",
    "    title='Daily Returns (%)')\n",
    "fig.show()"
   ]
  },
  {
   "cell_type": "markdown",
   "metadata": {},
   "source": [
    "From the two plots above, we can see that we have data for all the periods.\n",
    "\n",
    "The next thing we are going to do is to calculate the 5 year return and variance for each assets. This will further be used to calculate the expected return and -variance for the portefolio."
   ]
  },
  {
   "cell_type": "code",
   "execution_count": null,
   "metadata": {},
   "outputs": [],
   "source": [
    "def calulate_5_year_return_and_variance(ticker):\n",
    "    \"\"\"\n",
    "    Calculate the 5 year return and variance of a stock\n",
    "\n",
    "    Args:\n",
    "    ticker (str): The stock ticker\n",
    "    \"\"\"\n",
    "    df = pd.read_csv(f'data/{ticker}.csv')\n",
    "    five_year_return = (1+ df['daily_return']).prod() -1\n",
    "    five_year_variance = df['daily_return'].var()\n",
    "    return five_year_return, five_year_variance\n",
    "\n",
    "stock_return = []\n",
    "\n",
    "for ticker in tickers:\n",
    "    p = []\n",
    "    p.append(ticker)\n",
    "    p.append(calulate_5_year_return_and_variance(ticker)[0])\n",
    "    p.append(calulate_5_year_return_and_variance(ticker)[1])\n",
    "    stock_return.append(p)\n",
    "    print(f'{ticker} 5 year return: {round(calulate_5_year_return_and_variance(ticker)[0], 2) * 100} % and variance: {round(calulate_5_year_return_and_variance(ticker)[1], 7)}')\n",
    "\n",
    "# Save the return and variance to a csv file\n",
    "stock_return_df = pd.DataFrame(stock_return, columns=['Ticker', '5 Year Return', '5 Year Variance'])\n",
    "stock_return_df.to_csv('data/stock_return.csv', index=False)\n"
   ]
  },
  {
   "cell_type": "markdown",
   "metadata": {},
   "source": [
    "3. Monte carlo simulation"
   ]
  },
  {
   "cell_type": "code",
   "execution_count": null,
   "metadata": {},
   "outputs": [],
   "source": [
    "num_portfolios = 10_000 # The number of portfolios to simulate\n",
    "return_stock = pd.read_csv('data/stock_return.csv') # Read in the data\n",
    "tickers = return_stock['Ticker']\n",
    "risk_free_rate = 0.025  # The risk free rate\n",
    "\n",
    "# Construct a DataFrame to store the results\n",
    "results = pd.DataFrame()\n",
    "\n",
    "# Loop through many portfolios\n",
    "for i in range(num_portfolios):\n",
    "    # Randomly assign weights to the assets\n",
    "    weights = np.random.random(len(tickers))\n",
    "    weights /= np.sum(weights)\n",
    "\n",
    "    # Calculate expected portfolio return\n",
    "    expected_return = np.dot(weights, return_stock['5 Year Return'])\n",
    "\n",
    "    # Calculate portfolio variance\n",
    "    variance = np.dot(weights.T, np.dot( np.diag(return_stock['5 Year Variance']), weights))\n",
    "\n",
    "    # Calculate portfolio standard deviation (volatility)\n",
    "    volatility = np.sqrt(variance)\n",
    "\n",
    "    # Calculate Sharpe Ratio\n",
    "    sharpe_ratio = (expected_return - risk_free_rate) / volatility\n",
    "\n",
    "    # Append results\n",
    "    portfolio = pd.DataFrame({\n",
    "        'sim_n': i,\n",
    "        'KO': weights[0],\n",
    "        'GME': weights[1],\n",
    "        'AAPL': weights[2],\n",
    "        'JNJ': weights[3],\n",
    "        'JPM': weights[4],\n",
    "        'returns': expected_return,\n",
    "        'volatility': volatility,\n",
    "        'sharpe_ratio': sharpe_ratio\n",
    "    }, index=[0])\n",
    "    results = results.append(portfolio)\n",
    "\n",
    "# Saving the results\n",
    "results.to_csv('data/portfolios.csv', index=False)\n"
   ]
  },
  {
   "cell_type": "markdown",
   "metadata": {},
   "source": [
    "Plotting the distribution over returns"
   ]
  },
  {
   "cell_type": "code",
   "execution_count": null,
   "metadata": {},
   "outputs": [],
   "source": [
    "fig = px.scatter(\n",
    "    results, \n",
    "    x='volatility',\n",
    "    y='returns',\n",
    "    color='sharpe_ratio', title='Relative Risk and Return')\n",
    "fig.show()\n",
    "\n",
    "fig = px.histogram(\n",
    "    results, \n",
    "    x='returns', \n",
    "    title='Distribution of Returns',\n",
    "    nbins=40)\n",
    "\n",
    "fig.update_layout(\n",
    "    xaxis_title='Return (1+%) - 5 Year Return',\n",
    "    yaxis_title='Frequency')\n"
   ]
  },
  {
   "cell_type": "code",
   "execution_count": null,
   "metadata": {},
   "outputs": [],
   "source": [
    "portfolio = results[results['sharpe_ratio'] == results['sharpe_ratio'].max()]\n",
    "print(portfolio)"
   ]
  },
  {
   "cell_type": "markdown",
   "metadata": {},
   "source": [
    "Based on the above results, we should invest in the follownig portfolio\n",
    "\n",
    "|Ticker|Weight|\n",
    "|------|------|\n",
    "|KO | 15.2%|\n",
    "|GME| 4.3%\n",
    "|AAPL|59.2%\n",
    "|JNJ|10.6%|\n",
    "|JPM|10.6%|\n",
    "\n",
    "And this will gives us an expected return of 220%\n",
    "\n",
    "**NB** Based on randomness in choose of weighet per assets, the portfolio will have minor changes based on every rerun of the model"
   ]
  }
 ],
 "metadata": {
  "kernelspec": {
   "display_name": "Python 3",
   "language": "python",
   "name": "python3"
  },
  "language_info": {
   "codemirror_mode": {
    "name": "ipython",
    "version": 3
   },
   "file_extension": ".py",
   "mimetype": "text/x-python",
   "name": "python",
   "nbconvert_exporter": "python",
   "pygments_lexer": "ipython3",
   "version": "3.10.2"
  }
 },
 "nbformat": 4,
 "nbformat_minor": 2
}
